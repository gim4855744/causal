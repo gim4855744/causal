{
 "cells": [
  {
   "cell_type": "markdown",
   "id": "309e4229",
   "metadata": {},
   "source": [
    "# Example for RNNACE."
   ]
  },
  {
   "cell_type": "code",
   "execution_count": 1,
   "id": "ec76c689",
   "metadata": {},
   "outputs": [],
   "source": [
    "import sys\n",
    "sys.path.append('..')"
   ]
  },
  {
   "cell_type": "markdown",
   "id": "2af8af47",
   "metadata": {},
   "source": [
    "### Data preparation"
   ]
  },
  {
   "cell_type": "code",
   "execution_count": 2,
   "id": "7b5e9d57",
   "metadata": {},
   "outputs": [],
   "source": [
    "import numpy as np"
   ]
  },
  {
   "cell_type": "code",
   "execution_count": 3,
   "id": "cbb03680",
   "metadata": {},
   "outputs": [],
   "source": [
    "def generate_toy_dataset(n_samples, n_steps, n_features):\n",
    "    y = np.random.binomial(n=1, p=0.5, size=(n_samples,))  # Bernoulli distribution of size 'n_samples'.\n",
    "    x = np.random.normal(loc=0, scale=0.2, size=(n_samples, n_steps, n_features))\n",
    "    x[np.where(y == 0), :5, :1] -= 10  # the first 5 time steps and the first feature causally affect the outcome.\n",
    "    x[np.where(y == 1), :5, :1] += 10\n",
    "    y = y.astype('float').reshape(-1, 1)\n",
    "    return x, y\n",
    "\n",
    "n_samples = 1000\n",
    "n_steps = 10\n",
    "n_features = 3\n",
    "n_classes = 1\n",
    "\n",
    "x, y = generate_toy_dataset(n_samples, n_steps, n_features)"
   ]
  },
  {
   "cell_type": "markdown",
   "id": "49f6b4bc",
   "metadata": {},
   "source": [
    "### Fit a predictor."
   ]
  },
  {
   "cell_type": "code",
   "execution_count": 4,
   "id": "71b0669b",
   "metadata": {},
   "outputs": [],
   "source": [
    "import torch\n",
    "import torch.nn as nn\n",
    "import torch.nn.functional as F"
   ]
  },
  {
   "cell_type": "code",
   "execution_count": 5,
   "id": "d7773024",
   "metadata": {},
   "outputs": [],
   "source": [
    "class Model(nn.Module):\n",
    "\n",
    "    def __init__(self, n_features, n_outputs, hidden_size=128):\n",
    "        super().__init__()\n",
    "        self._rnn = nn.GRU(n_features, hidden_size, batch_first=True)\n",
    "        self._output_layer = nn.Linear(hidden_size, n_outputs)\n",
    "\n",
    "    def forward(self, x):\n",
    "        _, hidden_states = self._rnn(x)\n",
    "        outputs = self._output_layer(hidden_states.squeeze())\n",
    "        return outputs"
   ]
  },
  {
   "cell_type": "code",
   "execution_count": 6,
   "id": "3ca18c16",
   "metadata": {},
   "outputs": [],
   "source": [
    "x = torch.tensor(x, dtype=torch.float32)\n",
    "y = torch.tensor(y, dtype=torch.float32)\n",
    "model = Model(n_features, n_classes)"
   ]
  },
  {
   "cell_type": "code",
   "execution_count": 7,
   "id": "1ab33564",
   "metadata": {},
   "outputs": [
    {
     "name": "stdout",
     "output_type": "stream",
     "text": [
      "1 0.7303061485290527\n",
      "2 0.7243808507919312\n",
      "3 0.718414843082428\n",
      "4 0.7121202349662781\n",
      "5 0.7052456140518188\n",
      "6 0.6975357532501221\n",
      "7 0.6887246370315552\n",
      "8 0.6785421371459961\n",
      "9 0.6667448282241821\n",
      "10 0.6531828045845032\n",
      "11 0.6379138827323914\n",
      "12 0.6213533878326416\n",
      "13 0.6043647527694702\n",
      "14 0.5881187915802002\n",
      "15 0.5736453533172607\n",
      "16 0.5613607168197632\n",
      "17 0.5510467290878296\n",
      "18 0.5422731637954712\n",
      "19 0.534758448600769\n",
      "20 0.5284194350242615\n",
      "21 0.5232528448104858\n",
      "22 0.5192169547080994\n",
      "23 0.5161876678466797\n",
      "24 0.5139800906181335\n",
      "25 0.5123966336250305\n",
      "26 0.5112631320953369\n",
      "27 0.5104445815086365\n",
      "28 0.5098443031311035\n",
      "29 0.5093954205513\n",
      "30 0.5090530514717102\n",
      "31 0.5087867379188538\n",
      "32 0.5085756778717041\n",
      "33 0.5084056258201599\n",
      "34 0.5082665085792542\n",
      "35 0.5081512331962585\n",
      "36 0.5080546140670776\n",
      "37 0.5079725384712219\n",
      "38 0.5079023838043213\n",
      "39 0.5078417658805847\n",
      "40 0.5077890157699585\n",
      "41 0.5077427625656128\n",
      "42 0.5077019929885864\n",
      "43 0.507665753364563\n",
      "44 0.5076335072517395\n",
      "45 0.5076045393943787\n",
      "46 0.5075784921646118\n",
      "47 0.5075549483299255\n",
      "48 0.5075335502624512\n",
      "49 0.5075141191482544\n",
      "50 0.5074962973594666\n",
      "51 0.5074800252914429\n",
      "52 0.5074650049209595\n",
      "53 0.5074511170387268\n",
      "54 0.5074384212493896\n",
      "55 0.5074265599250793\n",
      "56 0.5074155330657959\n",
      "57 0.5074052810668945\n",
      "58 0.5073957443237305\n",
      "59 0.5073868036270142\n",
      "60 0.5073784589767456\n",
      "61 0.5073705911636353\n",
      "62 0.5073631405830383\n",
      "63 0.5073562264442444\n",
      "64 0.5073495507240295\n",
      "65 0.5073434114456177\n",
      "66 0.5073373913764954\n",
      "67 0.5073317885398865\n",
      "68 0.5073264241218567\n",
      "69 0.5073213577270508\n",
      "70 0.5073164701461792\n",
      "71 0.5073118209838867\n",
      "72 0.5073072910308838\n",
      "73 0.5073030591011047\n",
      "74 0.50729900598526\n",
      "75 0.5072950124740601\n",
      "76 0.5072911977767944\n",
      "77 0.5072875022888184\n",
      "78 0.5072839260101318\n",
      "79 0.5072804689407349\n",
      "80 0.5072771906852722\n",
      "81 0.5072739720344543\n",
      "82 0.5072708129882812\n",
      "83 0.5072677731513977\n",
      "84 0.5072647929191589\n",
      "85 0.5072618722915649\n",
      "86 0.5072591304779053\n",
      "87 0.5072563886642456\n",
      "88 0.5072537660598755\n",
      "89 0.5072511434555054\n",
      "90 0.5072486400604248\n",
      "91 0.5072461366653442\n",
      "92 0.5072436928749084\n",
      "93 0.5072413086891174\n",
      "94 0.5072389841079712\n",
      "95 0.5072367787361145\n",
      "96 0.5072345733642578\n",
      "97 0.5072323083877563\n",
      "98 0.5072301626205444\n",
      "99 0.5072280168533325\n",
      "100 0.5072259306907654\n"
     ]
    }
   ],
   "source": [
    "optimizer = torch.optim.Adam(model.parameters(), 1e-3)\n",
    "for epoch in range(100):\n",
    "    optimizer.zero_grad()\n",
    "    y_hat = torch.sigmoid(model(x))\n",
    "    loss = F.binary_cross_entropy_with_logits(y_hat, y)\n",
    "    loss.backward()\n",
    "    optimizer.step()\n",
    "    print(epoch + 1, loss.item())"
   ]
  },
  {
   "cell_type": "markdown",
   "id": "9cb9d20d",
   "metadata": {},
   "source": [
    "### Get estimated causal effects."
   ]
  },
  {
   "cell_type": "code",
   "execution_count": 8,
   "id": "56a8e5af",
   "metadata": {},
   "outputs": [],
   "source": [
    "import numpy as np\n",
    "from causal.effect import RNNACE"
   ]
  },
  {
   "cell_type": "code",
   "execution_count": 9,
   "id": "2ca51470",
   "metadata": {},
   "outputs": [
    {
     "name": "stdout",
     "output_type": "stream",
     "text": [
      "141.68544623365275\n"
     ]
    }
   ],
   "source": [
    "x = x.detach().cpu().numpy()\n",
    "rnnace = RNNACE(model, 'binary')\n",
    "causal_effect = rnnace.predict(x, n_steps - 1, 0, 0, 0.1)  # get the causal effect of do(alpha=0.01 | x) on feature 0, class 0 and the last time step (zero index).\n",
    "print(causal_effect)"
   ]
  },
  {
   "cell_type": "code",
   "execution_count": 10,
   "id": "86082a59",
   "metadata": {},
   "outputs": [
    {
     "name": "stdout",
     "output_type": "stream",
     "text": [
      "(1, 3, 1000)\n"
     ]
    }
   ],
   "source": [
    "causal_effects = []\n",
    "for class_idx in range(n_classes):\n",
    "    for feature_idx in range(n_features):\n",
    "        # get causal effects over whole feature space.\n",
    "        causal_effects.append([rnnace.predict(x, n_steps - 1, feature_idx, class_idx, alpha) for alpha in np.linspace(x[:, feature_idx].min(), x[:, feature_idx].max(), 1000)])\n",
    "causal_effects = np.array(causal_effects)\n",
    "causal_effects = causal_effects.reshape(n_classes, n_features, -1)\n",
    "print(causal_effects.shape)"
   ]
  },
  {
   "cell_type": "markdown",
   "id": "dc515699",
   "metadata": {},
   "source": [
    "### Visualization"
   ]
  },
  {
   "cell_type": "code",
   "execution_count": 11,
   "id": "9b87fb9c",
   "metadata": {},
   "outputs": [],
   "source": [
    "import matplotlib.pyplot as plt\n",
    "import numpy as np"
   ]
  },
  {
   "cell_type": "code",
   "execution_count": 12,
   "id": "efe4b31b",
   "metadata": {},
   "outputs": [
    {
     "data": {
      "image/png": "[encoded data removed]",
      "text/plain": [
       "<Figure size 640x480 with 1 Axes>"
      ]
     },
     "metadata": {},
     "output_type": "display_data"
    },
    {
     "data": {
      "text/plain": [
       "<Figure size 640x480 with 0 Axes>"
      ]
     },
     "metadata": {},
     "output_type": "display_data"
    }
   ],
   "source": [
    "for class_idx in range(n_classes):\n",
    "    for feature_idx in range(n_features):\n",
    "        a = np.linspace(x[:, feature_idx].min(), x[:, feature_idx].max(), 1000)\n",
    "        b = causal_effects[class_idx, feature_idx]\n",
    "        plt.plot(a, b)\n",
    "    plt.xlabel('Intervention Value (alpha)')\n",
    "    plt.ylabel('Average Causal Effect')\n",
    "    plt.tight_layout()\n",
    "    plt.show()\n",
    "    plt.clf()"
   ]
  },
  {
   "cell_type": "code",
   "execution_count": null,
   "id": "9ebd2f74",
   "metadata": {},
   "outputs": [],
   "source": []
  }
 ],
 "metadata": {
  "kernelspec": {
   "display_name": "torch",
   "language": "python",
   "name": "python3"
  },
  "language_info": {
   "codemirror_mode": {
    "name": "ipython",
    "version": 3
   },
   "file_extension": ".py",
   "mimetype": "text/x-python",
   "name": "python",
   "nbconvert_exporter": "python",
   "pygments_lexer": "ipython3",
   "version": "3.12.8"
  }
 },
 "nbformat": 4,
 "nbformat_minor": 5
}
