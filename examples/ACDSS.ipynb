{
 "cells": [
  {
   "cell_type": "markdown",
   "id": "9d88b7cf",
   "metadata": {},
   "source": [
    "# Example for ACDSS model."
   ]
  },
  {
   "cell_type": "code",
   "execution_count": 1,
   "id": "921be804",
   "metadata": {},
   "outputs": [],
   "source": [
    "import sys\n",
    "sys.path.append('..')"
   ]
  },
  {
   "cell_type": "markdown",
   "id": "d160772a",
   "metadata": {},
   "source": [
    "### Data preparation."
   ]
  },
  {
   "cell_type": "code",
   "execution_count": 2,
   "id": "a9887f0c",
   "metadata": {},
   "outputs": [],
   "source": [
    "import pandas as pd"
   ]
  },
  {
   "cell_type": "code",
   "execution_count": 5,
   "id": "d826ba44",
   "metadata": {},
   "outputs": [
    {
     "data": {
      "text/html": [
       "<div>\n",
       "<style scoped>\n",
       "    .dataframe tbody tr th:only-of-type {\n",
       "        vertical-align: middle;\n",
       "    }\n",
       "\n",
       "    .dataframe tbody tr th {\n",
       "        vertical-align: top;\n",
       "    }\n",
       "\n",
       "    .dataframe thead th {\n",
       "        text-align: right;\n",
       "    }\n",
       "</style>\n",
       "<table border=\"1\" class=\"dataframe\">\n",
       "  <thead>\n",
       "    <tr style=\"text-align: right;\">\n",
       "      <th></th>\n",
       "      <th>heart_rate</th>\n",
       "      <th>resp_rate</th>\n",
       "      <th>spo2</th>\n",
       "      <th>urineoutput_24hr</th>\n",
       "      <th>gcs</th>\n",
       "      <th>label</th>\n",
       "    </tr>\n",
       "    <tr>\n",
       "      <th>stay_id</th>\n",
       "      <th></th>\n",
       "      <th></th>\n",
       "      <th></th>\n",
       "      <th></th>\n",
       "      <th></th>\n",
       "      <th></th>\n",
       "    </tr>\n",
       "  </thead>\n",
       "  <tbody>\n",
       "    <tr>\n",
       "      <th>30000213</th>\n",
       "      <td>-0.159015</td>\n",
       "      <td>-0.307368</td>\n",
       "      <td>0.978947</td>\n",
       "      <td>-0.889724</td>\n",
       "      <td>0.866667</td>\n",
       "      <td>-1.0</td>\n",
       "    </tr>\n",
       "    <tr>\n",
       "      <th>30000213</th>\n",
       "      <td>-0.123180</td>\n",
       "      <td>-0.424931</td>\n",
       "      <td>0.924458</td>\n",
       "      <td>-0.409524</td>\n",
       "      <td>0.916667</td>\n",
       "      <td>-1.0</td>\n",
       "    </tr>\n",
       "    <tr>\n",
       "      <th>30000484</th>\n",
       "      <td>-0.037234</td>\n",
       "      <td>-0.487719</td>\n",
       "      <td>0.992157</td>\n",
       "      <td>-0.947870</td>\n",
       "      <td>-0.500000</td>\n",
       "      <td>-1.0</td>\n",
       "    </tr>\n",
       "    <tr>\n",
       "      <th>30000484</th>\n",
       "      <td>-0.060727</td>\n",
       "      <td>-0.515789</td>\n",
       "      <td>0.997059</td>\n",
       "      <td>-0.907769</td>\n",
       "      <td>0.111111</td>\n",
       "      <td>-1.0</td>\n",
       "    </tr>\n",
       "    <tr>\n",
       "      <th>30000484</th>\n",
       "      <td>-0.032358</td>\n",
       "      <td>-0.347368</td>\n",
       "      <td>0.998039</td>\n",
       "      <td>-0.773434</td>\n",
       "      <td>0.888889</td>\n",
       "      <td>-1.0</td>\n",
       "    </tr>\n",
       "    <tr>\n",
       "      <th>...</th>\n",
       "      <td>...</td>\n",
       "      <td>...</td>\n",
       "      <td>...</td>\n",
       "      <td>...</td>\n",
       "      <td>...</td>\n",
       "      <td>...</td>\n",
       "    </tr>\n",
       "    <tr>\n",
       "      <th>39999810</th>\n",
       "      <td>-0.300827</td>\n",
       "      <td>-0.440936</td>\n",
       "      <td>0.912418</td>\n",
       "      <td>-0.959900</td>\n",
       "      <td>0.875000</td>\n",
       "      <td>-1.0</td>\n",
       "    </tr>\n",
       "    <tr>\n",
       "      <th>39999810</th>\n",
       "      <td>-0.321924</td>\n",
       "      <td>-0.458124</td>\n",
       "      <td>0.940392</td>\n",
       "      <td>-0.879699</td>\n",
       "      <td>0.861111</td>\n",
       "      <td>-1.0</td>\n",
       "    </tr>\n",
       "    <tr>\n",
       "      <th>39999810</th>\n",
       "      <td>-0.354337</td>\n",
       "      <td>-0.503759</td>\n",
       "      <td>0.935747</td>\n",
       "      <td>-0.879699</td>\n",
       "      <td>0.916667</td>\n",
       "      <td>-1.0</td>\n",
       "    </tr>\n",
       "    <tr>\n",
       "      <th>39999810</th>\n",
       "      <td>-0.375116</td>\n",
       "      <td>-0.368421</td>\n",
       "      <td>0.932481</td>\n",
       "      <td>-0.929825</td>\n",
       "      <td>0.861111</td>\n",
       "      <td>-1.0</td>\n",
       "    </tr>\n",
       "    <tr>\n",
       "      <th>39999810</th>\n",
       "      <td>-0.348609</td>\n",
       "      <td>-0.410526</td>\n",
       "      <td>0.923982</td>\n",
       "      <td>-0.929825</td>\n",
       "      <td>0.933333</td>\n",
       "      <td>-1.0</td>\n",
       "    </tr>\n",
       "  </tbody>\n",
       "</table>\n",
       "<p>239514 rows × 6 columns</p>\n",
       "</div>"
      ],
      "text/plain": [
       "          heart_rate  resp_rate      spo2  urineoutput_24hr       gcs  label\n",
       "stay_id                                                                     \n",
       "30000213   -0.159015  -0.307368  0.978947         -0.889724  0.866667   -1.0\n",
       "30000213   -0.123180  -0.424931  0.924458         -0.409524  0.916667   -1.0\n",
       "30000484   -0.037234  -0.487719  0.992157         -0.947870 -0.500000   -1.0\n",
       "30000484   -0.060727  -0.515789  0.997059         -0.907769  0.111111   -1.0\n",
       "30000484   -0.032358  -0.347368  0.998039         -0.773434  0.888889   -1.0\n",
       "...              ...        ...       ...               ...       ...    ...\n",
       "39999810   -0.300827  -0.440936  0.912418         -0.959900  0.875000   -1.0\n",
       "39999810   -0.321924  -0.458124  0.940392         -0.879699  0.861111   -1.0\n",
       "39999810   -0.354337  -0.503759  0.935747         -0.879699  0.916667   -1.0\n",
       "39999810   -0.375116  -0.368421  0.932481         -0.929825  0.861111   -1.0\n",
       "39999810   -0.348609  -0.410526  0.923982         -0.929825  0.933333   -1.0\n",
       "\n",
       "[239514 rows x 6 columns]"
      ]
     },
     "execution_count": 5,
     "metadata": {},
     "output_type": "execute_result"
    }
   ],
   "source": [
    "vars = ['stay_id', 'heart_rate', 'resp_rate', 'urineoutput_24hr', 'spo2', 'gcs', 'label']\n",
    "df = pd.read_csv('../data/deterioration.csv', usecols=vars, index_col='stay_id')\n",
    "mean = df.mean()\n",
    "df = df.groupby('stay_id').ffill().fillna(mean)  # missing value imputation\n",
    "df = 2 * (df - df.min()) / (df.max() - df.min()) - 1  # min-max scale to [-1, 1]\n",
    "df"
   ]
  },
  {
   "cell_type": "markdown",
   "id": "b5a59c92",
   "metadata": {},
   "source": [
    "### Fit the model."
   ]
  },
  {
   "cell_type": "code",
   "execution_count": null,
   "id": "26b06c8b",
   "metadata": {},
   "outputs": [],
   "source": [
    "import os\n",
    "import torch\n",
    "from causal.discovery import ACDSS\n",
    "device = 'cuda' if torch.cuda.is_available() else 'cpu'\n",
    "os.makedirs('./checkpoints/', exist_ok=True)"
   ]
  },
  {
   "cell_type": "code",
   "execution_count": null,
   "id": "e0e80cb2",
   "metadata": {},
   "outputs": [
    {
     "name": "stderr",
     "output_type": "stream",
     "text": [
      "Epoch 10: 100%|██████████| 10/10 [07:41<00:00, 46.14s/it]\n"
     ]
    }
   ],
   "source": [
    "model = ACDSS(df.shape[1], n_hidden=256, n_edge_types=2).to(device)\n",
    "model.fit(df, batch_size=128, max_epochs=10)"
   ]
  },
  {
   "cell_type": "markdown",
   "id": "a75271a8",
   "metadata": {},
   "source": [
    "### Predict edge probabilities from the fitted model."
   ]
  },
  {
   "cell_type": "code",
   "execution_count": 9,
   "id": "00e0ebfe",
   "metadata": {},
   "outputs": [
    {
     "name": "stderr",
     "output_type": "stream",
     "text": [
      "/var/folders/w4/2tjclkt51816ypgrqb08flg00000gn/T/ipykernel_82408/2591005203.py:1: FutureWarning: You are using `torch.load` with `weights_only=False` (the current default value), which uses the default pickle module implicitly. It is possible to construct malicious pickle data which will execute arbitrary code during unpickling (See https://github.com/pytorch/pytorch/blob/main/SECURITY.md#untrusted-models for more details). In a future release, the default value for `weights_only` will be flipped to `True`. This limits the functions that could be executed during unpickling. Arbitrary objects will no longer be allowed to be loaded via this mode unless they are explicitly allowlisted by the user via `torch.serialization.add_safe_globals`. We recommend you start setting `weights_only=True` for any use case where you don't have full control of the loaded file. Please open an issue on GitHub for any issues related to this experimental feature.\n",
      "  checkpoint = torch.load('./checkpoints/ACDSS.ckpt', map_location=device)\n",
      "                                                 \r"
     ]
    },
    {
     "name": "stdout",
     "output_type": "stream",
     "text": [
      "Shape of predicted edge probabilities: (50261, 6, 6)\n"
     ]
    }
   ],
   "source": [
    "checkpoint = torch.load('./checkpoints/ACDSS.ckpt', map_location=device)\n",
    "model = ACDSS(**checkpoint['hparams']).to(device)\n",
    "model.load_state_dict(checkpoint['model_state_dict'])\n",
    "edge_probs = model.predict(df, batch_size=128)\n",
    "print(f'Shape of predicted edge probabilities: {edge_probs.shape}')"
   ]
  },
  {
   "cell_type": "markdown",
   "id": "ba59e780",
   "metadata": {},
   "source": [
    "### Visualize a predicted graph."
   ]
  },
  {
   "cell_type": "code",
   "execution_count": 10,
   "id": "89e9ffd9",
   "metadata": {},
   "outputs": [],
   "source": [
    "import numpy as np\n",
    "import networkx as nx\n",
    "import matplotlib.pyplot as plt"
   ]
  },
  {
   "cell_type": "code",
   "execution_count": 11,
   "id": "2c40bbbd",
   "metadata": {},
   "outputs": [],
   "source": [
    "graph = edge_probs[0].T  # select the first simulation and transpose (receiver <- sender) graph to (sender -> receiver) graph.\n",
    "graph = np.where(graph >= 0.5, graph, 0)  # set probability threshold to 0.5\n",
    "graph = nx.DiGraph(graph)\n",
    "pos = nx.shell_layout(graph)\n",
    "weights = [graph[u][v]['weight'] for u, v in graph.edges()]"
   ]
  },
  {
   "cell_type": "code",
   "execution_count": 17,
   "id": "03a3f1b4",
   "metadata": {},
   "outputs": [
    {
     "data": {
      "image/png": "[encoded data removed]",
      "text/plain": [
       "<Figure size 640x480 with 2 Axes>"
      ]
     },
     "metadata": {},
     "output_type": "display_data"
    }
   ],
   "source": [
    "nx.draw_networkx_nodes(graph, pos, node_color='lightblue', node_size=500)  # skip stay_id\n",
    "nx.draw_networkx_labels(graph, pos, labels={0: 'Heart Rate', 1: 'Respiratory Rate', 2: 'Urine Output', 3: 'SpO2', 4: 'GCS', 5: 'Warning Score'})\n",
    "nx.draw_networkx_edges(graph, pos, edge_color=weights, edge_cmap=plt.cm.OrRd, edge_vmin=0, edge_vmax=1, width=2)\n",
    "plt.colorbar(plt.cm.ScalarMappable(plt.Normalize(0, 1), plt.cm.OrRd), ax=plt.gca(), label='Edge weight')    \n",
    "plt.axis('off')\n",
    "plt.tight_layout()\n",
    "plt.show()"
   ]
  },
  {
   "cell_type": "code",
   "execution_count": null,
   "id": "83034f60",
   "metadata": {},
   "outputs": [],
   "source": []
  }
 ],
 "metadata": {
  "kernelspec": {
   "display_name": "torch",
   "language": "python",
   "name": "python3"
  },
  "language_info": {
   "codemirror_mode": {
    "name": "ipython",
    "version": 3
   },
   "file_extension": ".py",
   "mimetype": "text/x-python",
   "name": "python",
   "nbconvert_exporter": "python",
   "pygments_lexer": "ipython3",
   "version": "3.12.8"
  }
 },
 "nbformat": 4,
 "nbformat_minor": 5
}
