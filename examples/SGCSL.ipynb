{
 "cells": [
  {
   "cell_type": "markdown",
   "id": "7cc1b77d",
   "metadata": {},
   "source": [
    "# Example for SGCSL model."
   ]
  },
  {
   "cell_type": "code",
   "execution_count": 1,
   "id": "5ed4146c",
   "metadata": {},
   "outputs": [],
   "source": [
    "import sys\n",
    "sys.path.append('..')"
   ]
  },
  {
   "cell_type": "markdown",
   "id": "684c8dad",
   "metadata": {},
   "source": [
    "### Data preparation."
   ]
  },
  {
   "cell_type": "code",
   "execution_count": 2,
   "id": "0ae5662c",
   "metadata": {},
   "outputs": [
    {
     "name": "stderr",
     "output_type": "stream",
     "text": [
      "100%|██████████| 20/20 [00:00<00:00, 9808.94it/s]\n",
      "100%|██████████| 20/20 [00:00<00:00, 18133.61it/s]\n",
      "100%|██████████| 20/20 [00:00<00:00, 37332.48it/s]"
     ]
    },
    {
     "name": "stdout",
     "output_type": "stream",
     "text": [
      "Shape of device edges: (20, 20)\n",
      "Shape of event edges: (10, 10)\n",
      "Shape of event sequences: (144, 4)\n"
     ]
    },
    {
     "name": "stderr",
     "output_type": "stream",
     "text": [
      "\n"
     ]
    }
   ],
   "source": [
    "from causal.synthetic_dataset import generate_thp\n",
    "device_edges, event_edges, x = generate_thp(n_devices=20, n_events=10)\n",
    "print('Shape of device edges:', device_edges.shape)\n",
    "print('Shape of event edges:', event_edges.shape)\n",
    "print('Shape of event sequences:', x.shape)"
   ]
  },
  {
   "cell_type": "markdown",
   "id": "0ccc0dd8",
   "metadata": {},
   "source": [
    "### Fit the model."
   ]
  },
  {
   "cell_type": "code",
   "execution_count": 3,
   "id": "574abe79",
   "metadata": {},
   "outputs": [],
   "source": [
    "import os\n",
    "import torch\n",
    "from causal.discovery import SGCSL\n",
    "device = 'cuda' if torch.cuda.is_available() else 'cpu'\n",
    "os.makedirs('./checkpoints/', exist_ok=True)"
   ]
  },
  {
   "cell_type": "code",
   "execution_count": 4,
   "id": "b1ac26f3",
   "metadata": {},
   "outputs": [
    {
     "name": "stderr",
     "output_type": "stream",
     "text": [
      "Epoch 100: 100%|██████████| 100/100 [00:00<00:00, 584.49it/s, Loss: 701293.1875]\n"
     ]
    }
   ],
   "source": [
    "n_devices, n_events = device_edges.shape[0], event_edges.shape[0]\n",
    "model = SGCSL(n_devices, n_events).to(device)\n",
    "model.fit(x, device_edges)"
   ]
  },
  {
   "cell_type": "markdown",
   "id": "12eddffe",
   "metadata": {},
   "source": [
    "### Predict the edge probabilities of a event topology graph from the fitted model."
   ]
  },
  {
   "cell_type": "code",
   "execution_count": 5,
   "id": "cdb0622d",
   "metadata": {},
   "outputs": [
    {
     "name": "stdout",
     "output_type": "stream",
     "text": [
      "Shape of the predicted edge probabilities: (10, 10)\n",
      "Shape of the predicted mu: (10,)\n"
     ]
    },
    {
     "name": "stderr",
     "output_type": "stream",
     "text": [
      "/var/folders/w4/2tjclkt51816ypgrqb08flg00000gn/T/ipykernel_20597/4256061450.py:1: FutureWarning: You are using `torch.load` with `weights_only=False` (the current default value), which uses the default pickle module implicitly. It is possible to construct malicious pickle data which will execute arbitrary code during unpickling (See https://github.com/pytorch/pytorch/blob/main/SECURITY.md#untrusted-models for more details). In a future release, the default value for `weights_only` will be flipped to `True`. This limits the functions that could be executed during unpickling. Arbitrary objects will no longer be allowed to be loaded via this mode unless they are explicitly allowlisted by the user via `torch.serialization.add_safe_globals`. We recommend you start setting `weights_only=True` for any use case where you don't have full control of the loaded file. Please open an issue on GitHub for any issues related to this experimental feature.\n",
      "  checkpoint = torch.load('./checkpoints/SGCSL.ckpt', map_location=device)\n"
     ]
    }
   ],
   "source": [
    "checkpoint = torch.load('./checkpoints/SGCSL.ckpt', map_location=device)\n",
    "model = SGCSL(**checkpoint['hparams']).to(device)\n",
    "model.load_state_dict(checkpoint['model_state_dict'])\n",
    "edge_probs, mu = model.predict()\n",
    "print(f'Shape of the predicted edge probabilities: {edge_probs.shape}')\n",
    "print(f'Shape of the predicted mu: {mu.shape}')"
   ]
  },
  {
   "cell_type": "markdown",
   "id": "e53afdd8",
   "metadata": {},
   "source": [
    "### Visualized a predicted graph."
   ]
  },
  {
   "cell_type": "code",
   "execution_count": 6,
   "id": "2d0f7489",
   "metadata": {},
   "outputs": [
    {
     "data": {
      "image/png": "[encoded data removed]",
      "text/plain": [
       "<Figure size 800x300 with 4 Axes>"
      ]
     },
     "metadata": {},
     "output_type": "display_data"
    },
    {
     "data": {
      "text/plain": [
       "<castle.common.plot_dag.GraphDAG at 0x12ade9550>"
      ]
     },
     "execution_count": 6,
     "metadata": {},
     "output_type": "execute_result"
    }
   ],
   "source": [
    "from castle.common import GraphDAG\n",
    "GraphDAG(edge_probs, event_edges)"
   ]
  },
  {
   "cell_type": "code",
   "execution_count": null,
   "id": "96103c70",
   "metadata": {},
   "outputs": [],
   "source": []
  }
 ],
 "metadata": {
  "kernelspec": {
   "display_name": "torch",
   "language": "python",
   "name": "python3"
  },
  "language_info": {
   "codemirror_mode": {
    "name": "ipython",
    "version": 3
   },
   "file_extension": ".py",
   "mimetype": "text/x-python",
   "name": "python",
   "nbconvert_exporter": "python",
   "pygments_lexer": "ipython3",
   "version": "3.12.8"
  }
 },
 "nbformat": 4,
 "nbformat_minor": 5
}
